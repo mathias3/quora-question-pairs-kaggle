{
 "cells": [
  {
   "cell_type": "code",
   "execution_count": 5,
   "metadata": {
    "collapsed": false
   },
   "outputs": [
    {
     "name": "stdout",
     "output_type": "stream",
     "text": [
      "              test_id\n",
      "is_duplicate         \n",
      "0.022485       0.0225\n",
      "0.009989       0.9775\n",
      "0.106539       0.9775\n",
      "0.138313       0.9775\n",
      "0.439430       0.9775\n",
      "0.062598       0.9775\n",
      "0.472608       0.9775\n",
      "0.915468       0.9775\n",
      "0.403437       0.9775\n",
      "0.018477       0.9775\n"
     ]
    }
   ],
   "source": [
    "import pandas as pd\n",
    "import os\n",
    "\n",
    "clip = 0.9775\n",
    "classes = 1\n",
    "\n",
    "def clip_csv(csv_file, clip, classes):\n",
    "    # Read the submission file\n",
    "    df = pd.read_csv(csv_file, index_col=0)\n",
    "\n",
    "    # Clip the values\n",
    "    df = df.clip(lower=(1- clip)/float(classes), upper=clip)\n",
    "    \n",
    "    # Normalize the values to 1\n",
    "    #df = df.div(df.sum(axis=1), axis=0)\n",
    "\n",
    "    # Save the new clipped values\n",
    "    df.to_csv('clip.csv')\n",
    "    print(df.head(10))\n",
    "    \n",
    "# Of course you are going to use your own submission here\n",
    "clip_csv('0.3221_lstm_247_134_0.39_0.18.csv', clip, classes)"
   ]
  },
  {
   "cell_type": "code",
   "execution_count": 3,
   "metadata": {
    "collapsed": false
   },
   "outputs": [
    {
     "name": "stdout",
     "output_type": "stream",
     "text": [
      "         is_duplicate\n",
      "test_id              \n",
      "0            0.033474\n",
      "1            0.403823\n",
      "2            0.353432\n",
      "3            0.075564\n",
      "4            0.298677\n",
      "5            0.042574\n",
      "6            0.582567\n",
      "7            0.788177\n",
      "8            0.386603\n",
      "9            0.044011\n"
     ]
    }
   ],
   "source": [
    "import numpy as np\n",
    "import pandas as pd\n",
    "\n",
    "def blend_csv(csv_paths):\n",
    "    if len(csv_paths) < 2:\n",
    "        print(\"Blending takes two or more csv files!\")\n",
    "        return\n",
    "    \n",
    "    # Read the first file\n",
    "    df_blend = pd.read_csv(csv_paths[0], index_col=0)\n",
    "    \n",
    "    # Loop over all files and add them\n",
    "    for csv_file in csv_paths[1:]:\n",
    "        df = pd.read_csv(csv_file, index_col=0)\n",
    "        df_blend = df_blend.add(df)\n",
    "        \n",
    "    # Divide by the number of files\n",
    "    df_blend = df_blend.div(len(csv_paths))\n",
    "\n",
    "    # Save the blend file\n",
    "    df_blend.to_csv('blend.csv')\n",
    "    print(df_blend.head(10))\n",
    "\n",
    "# Obviously replace this with two or more of your files\n",
    "blend_csv(['submisison-2017-04-25-09-01-35.csv', 'xgb_seed12357_n315 (2).csv', 'xgb_seed12357_n500.csv'])"
   ]
  },
  {
   "cell_type": "code",
   "execution_count": null,
   "metadata": {
    "collapsed": true
   },
   "outputs": [],
   "source": []
  }
 ],
 "metadata": {
  "kernelspec": {
   "display_name": "Python 2",
   "language": "python",
   "name": "python2"
  },
  "language_info": {
   "codemirror_mode": {
    "name": "ipython",
    "version": 2
   },
   "file_extension": ".py",
   "mimetype": "text/x-python",
   "name": "python",
   "nbconvert_exporter": "python",
   "pygments_lexer": "ipython2",
   "version": "2.7.13"
  }
 },
 "nbformat": 4,
 "nbformat_minor": 2
}
